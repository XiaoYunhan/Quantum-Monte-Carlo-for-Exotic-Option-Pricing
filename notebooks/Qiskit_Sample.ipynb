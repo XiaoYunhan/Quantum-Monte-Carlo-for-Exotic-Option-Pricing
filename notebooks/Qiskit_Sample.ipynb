{
 "cells": [
  {
   "cell_type": "code",
   "execution_count": 1,
   "metadata": {},
   "outputs": [
    {
     "data": {
      "text/plain": [
       "<qiskit.circuit.instructionset.InstructionSet at 0x105a20880>"
      ]
     },
     "execution_count": 1,
     "metadata": {},
     "output_type": "execute_result"
    }
   ],
   "source": [
    "import numpy as np\n",
    "from qiskit import QuantumCircuit\n",
    "\n",
    "# 1. A quantum circuit for preparing the quantum state |000> + i |111> / √2\n",
    "qc = QuantumCircuit(3)\n",
    "qc.h(0)             # generate superposition\n",
    "qc.p(np.pi / 2, 0)  # add quantum phase\n",
    "qc.cx(0, 1)         # 0th-qubit-Controlled-NOT gate on 1st qubit\n",
    "qc.cx(0, 2)         # 0th-qubit-Controlled-NOT gate on 2nd qubit"
   ]
  },
  {
   "cell_type": "code",
   "execution_count": 4,
   "metadata": {},
   "outputs": [
    {
     "name": "stdout",
     "output_type": "stream",
     "text": [
      " > Counts: {'111': 5055, '000': 4945}\n"
     ]
    }
   ],
   "source": [
    "# 2. Add the classical output in the form of measurement of all qubits\n",
    "qc_measured = qc.measure_all(inplace=False)\n",
    "\n",
    "# 3. Execute using the Sampler primitive\n",
    "from qiskit.primitives import StatevectorSampler\n",
    "sampler = StatevectorSampler()\n",
    "job = sampler.run([qc_measured], shots=10000)\n",
    "result = job.result()\n",
    "print(f\" > Counts: {result[0].data['meas'].get_counts()}\")"
   ]
  },
  {
   "cell_type": "code",
   "execution_count": null,
   "metadata": {},
   "outputs": [
    {
     "name": "stdout",
     "output_type": "stream",
     "text": [
      " > Expectation values: 4.000518017493533\n"
     ]
    }
   ],
   "source": [
    "# 2. Define the observable to be measured \n",
    "from qiskit.quantum_info import SparsePauliOp\n",
    "operator = SparsePauliOp.from_list([(\"XXY\", 1), (\"XYX\", 1), (\"YXX\", 1), (\"YYY\", -1)])\n",
    "\n",
    "# 3. Execute using the Estimator primitive\n",
    "from qiskit.primitives import StatevectorEstimator\n",
    "estimator = StatevectorEstimator()\n",
    "job = estimator.run([(qc, operator)], precision=1e-3)\n",
    "result = job.result()\n",
    "print(f\" > Expectation values: {result[0].data.evs}\")"
   ]
  },
  {
   "cell_type": "code",
   "execution_count": 8,
   "metadata": {},
   "outputs": [],
   "source": [
    "from qiskit import transpile\n",
    "qc_transpiled = transpile(qc, basis_gates=[\"cz\", \"sx\", \"rz\"], coupling_map=[[0, 1], [1, 2]], optimization_level=3)"
   ]
  }
 ],
 "metadata": {
  "kernelspec": {
   "display_name": "Python 3",
   "language": "python",
   "name": "python3"
  },
  "language_info": {
   "codemirror_mode": {
    "name": "ipython",
    "version": 3
   },
   "file_extension": ".py",
   "mimetype": "text/x-python",
   "name": "python",
   "nbconvert_exporter": "python",
   "pygments_lexer": "ipython3",
   "version": "3.9.6"
  }
 },
 "nbformat": 4,
 "nbformat_minor": 2
}
