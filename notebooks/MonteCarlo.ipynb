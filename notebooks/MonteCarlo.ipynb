{
 "cells": [
  {
   "cell_type": "code",
   "execution_count": 24,
   "metadata": {},
   "outputs": [],
   "source": [
    "import numpy as np\n",
    "from scipy.stats import norm\n",
    "\n",
    "class MonteCarloOptionPricing:\n",
    "    def __init__(self, S0, K, T, r, sigma, n_simulations, n_steps, option_type=\"call\", asian=True):\n",
    "        \"\"\"\n",
    "        Initialize the Monte Carlo pricing model.\n",
    "        \n",
    "        Parameters:\n",
    "        S0 : float  - Initial stock price\n",
    "        K : float   - Strike price\n",
    "        T : float   - Time to maturity (years)\n",
    "        r : float   - Risk-free interest rate (annualized)\n",
    "        sigma : float - Volatility of underlying asset (annualized)\n",
    "        n_simulations : int - Number of Monte Carlo simulations\n",
    "        n_steps : int - Number of time steps in each simulation\n",
    "        option_type : str - \"call\" or \"put\"\n",
    "        asian : bool - If True, prices an Asian option; otherwise, a European option.\n",
    "        \"\"\"\n",
    "        self.S0 = S0\n",
    "        self.K = K\n",
    "        self.T = T\n",
    "        self.r = r\n",
    "        self.sigma = sigma\n",
    "        self.n_simulations = n_simulations\n",
    "        self.n_steps = n_steps\n",
    "        self.dt = T / n_steps\n",
    "        self.option_type = option_type\n",
    "        self.asian = asian\n",
    "    \n",
    "    def simulate_asset_paths(self):\n",
    "        \"\"\"Simulates asset price paths using Geometric Brownian Motion (GBM).\"\"\"\n",
    "        S = np.zeros((self.n_simulations, self.n_steps + 1))\n",
    "        S[:, 0] = self.S0  # Initial stock price\n",
    "        \n",
    "        # Generate random numbers for Brownian motion\n",
    "        Z = np.random.randn(self.n_simulations, self.n_steps)\n",
    "        \n",
    "        for t in range(1, self.n_steps + 1):\n",
    "            S[:, t] = S[:, t-1] * np.exp((self.r - 0.5 * self.sigma**2) * self.dt + \n",
    "                                         self.sigma * np.sqrt(self.dt) * Z[:, t-1])\n",
    "        return S\n",
    "    \n",
    "    def calculate_payoff(self, S):\n",
    "        \"\"\"Calculates option payoff based on Asian or European option type.\"\"\"\n",
    "        if self.asian:\n",
    "            avg_price = np.mean(S[:, 1:], axis=1)  # Exclude initial price\n",
    "        else:\n",
    "            avg_price = S[:, -1]  # Final price for European option\n",
    "        \n",
    "        if self.option_type == \"call\":\n",
    "            payoff = np.maximum(avg_price - self.K, 0)\n",
    "        else:\n",
    "            payoff = np.maximum(self.K - avg_price, 0)\n",
    "        \n",
    "        return payoff\n",
    "    \n",
    "    def price_option(self):\n",
    "        \"\"\"Prices the option using Monte Carlo simulation.\"\"\"\n",
    "        S = self.simulate_asset_paths()\n",
    "        payoff = self.calculate_payoff(S)\n",
    "        \n",
    "        # Discount expected payoff\n",
    "        option_price = np.exp(-self.r * self.T) * np.mean(payoff)\n",
    "        std_error = np.std(payoff) / np.sqrt(self.n_simulations)\n",
    "        \n",
    "        return option_price, std_error\n"
   ]
  },
  {
   "cell_type": "code",
   "execution_count": 25,
   "metadata": {},
   "outputs": [
    {
     "name": "stdout",
     "output_type": "stream",
     "text": [
      "Monte Carlo Estimated Asian Option Price: 5.7636\n",
      "Standard Error: 0.0841\n"
     ]
    }
   ],
   "source": [
    "# Set parameters\n",
    "S0 = 100\n",
    "K = 100\n",
    "T = 1\n",
    "r = 0.05\n",
    "sigma = 0.2\n",
    "n_simulations = 10000\n",
    "n_steps = 252\n",
    "option_type = \"call\"\n",
    "asian = True\n",
    "\n",
    "# Price the option\n",
    "mc_pricing = MonteCarloOptionPricing(S0, K, T, r, sigma, n_simulations, n_steps, option_type, asian)\n",
    "price, std_error = mc_pricing.price_option()\n",
    "\n",
    "# Print the results\n",
    "print(f\"Monte Carlo Estimated Asian Option Price: {price:.4f}\")\n",
    "print(f\"Standard Error: {std_error:.4f}\")\n"
   ]
  }
 ],
 "metadata": {
  "kernelspec": {
   "display_name": "Python 3",
   "language": "python",
   "name": "python3"
  },
  "language_info": {
   "codemirror_mode": {
    "name": "ipython",
    "version": 3
   },
   "file_extension": ".py",
   "mimetype": "text/x-python",
   "name": "python",
   "nbconvert_exporter": "python",
   "pygments_lexer": "ipython3",
   "version": "3.9.6"
  }
 },
 "nbformat": 4,
 "nbformat_minor": 2
}
