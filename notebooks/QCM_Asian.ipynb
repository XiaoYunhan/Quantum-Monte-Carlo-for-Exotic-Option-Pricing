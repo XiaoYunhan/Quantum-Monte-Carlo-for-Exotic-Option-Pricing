{
 "cells": [
  {
   "cell_type": "code",
   "execution_count": 1,
   "metadata": {},
   "outputs": [
    {
     "ename": "ModuleNotFoundError",
     "evalue": "No module named 'qiskit.algorithms'",
     "output_type": "error",
     "traceback": [
      "\u001b[0;31m---------------------------------------------------------------------------\u001b[0m",
      "\u001b[0;31mModuleNotFoundError\u001b[0m                       Traceback (most recent call last)",
      "Cell \u001b[0;32mIn[1], line 3\u001b[0m\n\u001b[1;32m      1\u001b[0m \u001b[38;5;28;01mfrom\u001b[39;00m \u001b[38;5;21;01mqiskit_finance\u001b[39;00m\u001b[38;5;21;01m.\u001b[39;00m\u001b[38;5;21;01mcircuit\u001b[39;00m\u001b[38;5;21;01m.\u001b[39;00m\u001b[38;5;21;01mlibrary\u001b[39;00m \u001b[38;5;28;01mimport\u001b[39;00m LogNormalDistribution\n\u001b[1;32m      2\u001b[0m \u001b[38;5;28;01mfrom\u001b[39;00m \u001b[38;5;21;01mqiskit_finance\u001b[39;00m\u001b[38;5;21;01m.\u001b[39;00m\u001b[38;5;21;01mapplications\u001b[39;00m\u001b[38;5;21;01m.\u001b[39;00m\u001b[38;5;21;01mestimation\u001b[39;00m \u001b[38;5;28;01mimport\u001b[39;00m EuropeanCallPricing\n\u001b[0;32m----> 3\u001b[0m \u001b[38;5;28;01mfrom\u001b[39;00m \u001b[38;5;21;01mqiskit\u001b[39;00m\u001b[38;5;21;01m.\u001b[39;00m\u001b[38;5;21;01malgorithms\u001b[39;00m \u001b[38;5;28;01mimport\u001b[39;00m IterativeAmplitudeEstimation\n\u001b[1;32m      4\u001b[0m \u001b[38;5;28;01mfrom\u001b[39;00m \u001b[38;5;21;01mqiskit\u001b[39;00m \u001b[38;5;28;01mimport\u001b[39;00m Aer\n\u001b[1;32m      5\u001b[0m \u001b[38;5;28;01mfrom\u001b[39;00m \u001b[38;5;21;01mqiskit\u001b[39;00m\u001b[38;5;21;01m.\u001b[39;00m\u001b[38;5;21;01mutils\u001b[39;00m \u001b[38;5;28;01mimport\u001b[39;00m QuantumInstance\n",
      "\u001b[0;31mModuleNotFoundError\u001b[0m: No module named 'qiskit.algorithms'"
     ]
    }
   ],
   "source": [
    "from qiskit_finance.circuit.library import LogNormalDistribution\n",
    "from qiskit_finance.applications.estimation import EuropeanCallPricing\n",
    "from qiskit.algorithms import IterativeAmplitudeEstimation\n",
    "from qiskit import Aer\n",
    "from qiskit.utils import QuantumInstance\n",
    "\n",
    "# 资产价格参数\n",
    "S0 = 2.0\n",
    "volatility = 0.4\n",
    "interest_rate = 0.05\n",
    "maturity = 40 / 365\n",
    "strike_price = 2.126\n",
    "\n",
    "# 定义多个时间步\n",
    "num_steps = 3\n",
    "num_qubits = 3  # 每个时间步的价格量子比特数\n",
    "\n",
    "# 创建多个LogNormalDistribution对象来编码不同时间的价格\n",
    "uncertainty_models = [\n",
    "    LogNormalDistribution(num_qubits, mu=mu, sigma=sigma, bounds=(0, 4)) \n",
    "    for _ in range(num_steps)\n",
    "]\n",
    "\n",
    "# 构建亚洲期权电路\n",
    "asian_option = AsianCallPricing(\n",
    "    num_state_qubits=num_qubits*num_steps,\n",
    "    strike_price=strike_price,\n",
    "    rescaling_factor=0.25,\n",
    "    bounds=(0, 4*num_steps),\n",
    "    uncertainty_models=uncertainty_models\n",
    ")\n",
    "\n",
    "# 量子模拟器\n",
    "backend = Aer.get_backend('aer_simulator')\n",
    "quantum_instance = QuantumInstance(backend)\n",
    "\n",
    "# 振幅估计\n",
    "iae = IterativeAmplitudeEstimation(0.01, alpha=0.05, quantum_instance=quantum_instance)\n",
    "result = iae.estimate(asian_option.to_estimation_problem())\n",
    "\n",
    "# 解析结果\n",
    "asian_price = asian_option.interpret(result)\n",
    "print(f\"亚洲期权估计价格: {asian_price:.4f}\")\n"
   ]
  }
 ],
 "metadata": {
  "kernelspec": {
   "display_name": "Python 3",
   "language": "python",
   "name": "python3"
  },
  "language_info": {
   "codemirror_mode": {
    "name": "ipython",
    "version": 3
   },
   "file_extension": ".py",
   "mimetype": "text/x-python",
   "name": "python",
   "nbconvert_exporter": "python",
   "pygments_lexer": "ipython3",
   "version": "3.9.6"
  }
 },
 "nbformat": 4,
 "nbformat_minor": 2
}
